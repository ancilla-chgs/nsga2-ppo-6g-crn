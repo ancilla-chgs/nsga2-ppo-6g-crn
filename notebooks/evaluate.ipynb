{
  "nbformat": 4,
  "nbformat_minor": 0,
  "metadata": {
    "colab": {
      "provenance": []
    },
    "kernelspec": {
      "name": "python3",
      "display_name": "Python 3"
    },
    "language_info": {
      "name": "python"
    }
  },
  "cells": [
    {
      "cell_type": "markdown",
      "source": [
        "# **NSGA-II + PPO Spectrum Sharing Framework Model Evaluation**\n",
        "**This notebook will:**\n",
        "\n",
        "*   Install required packages\n",
        "*   Clone the GitHub repo\n",
        "*   Run the evaluation script on the default dataset\n",
        "*   Display output and save results\n",
        "\n",
        "The pretrained models and datasets are uploaded in the repo folders:\n",
        "\n",
        "models/\n",
        "data/"
      ],
      "metadata": {
        "id": "kuAwWk2r6Kif"
      }
    },
    {
      "cell_type": "code",
      "execution_count": null,
      "metadata": {
        "id": "4HXrFzFi5kL7"
      },
      "outputs": [],
      "source": [
        "# Clone your GitHub repo\n",
        "!git clone https://github.com/ancilla-chgs/nsga2-ppo-6g-crn.git\n",
        "%cd nsga2-ppo-6g-crn/6g-crn_spectrum-sharing-framework"
      ]
    },
    {
      "cell_type": "code",
      "source": [
        "# Check if you are in the correct directory all the required files are in\n",
        "!pwd\n",
        "!ls"
      ],
      "metadata": {
        "id": "pXmlK8rx6hbS"
      },
      "execution_count": null,
      "outputs": []
    },
    {
      "cell_type": "code",
      "source": [
        "# Install dependencies when installation is done, restart the session\n",
        "!pip install -r requirements.txt"
      ],
      "metadata": {
        "id": "bjS3po2Q63dG"
      },
      "execution_count": null,
      "outputs": []
    },
    {
      "cell_type": "code",
      "source": [
        "#  Navigate to the project’s root directory inside the cloned repository to access all code, data, and model files.\n",
        "%cd nsga2-ppo-6g-crn/6g-crn_spectrum-sharing-framework"
      ],
      "metadata": {
        "id": "UlBuCrvh67NI"
      },
      "execution_count": null,
      "outputs": []
    },
    {
      "cell_type": "code",
      "source": [
        "# Run evaluation script\n",
        "!python code/evaluate.py --dataset val_dataset_sinr.csv"
      ],
      "metadata": {
        "id": "4vNc7BW07KHf"
      },
      "execution_count": null,
      "outputs": []
    },
    {
      "cell_type": "markdown",
      "source": [
        "# **Results**\n",
        "Evaluation results will be saved in the results/ folder. You can explore generated plots and CSV files there."
      ],
      "metadata": {
        "id": "8dM8BTrK7Rnw"
      }
    }
  ]
}